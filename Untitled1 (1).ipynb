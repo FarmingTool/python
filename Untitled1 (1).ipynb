{
  "nbformat": 4,
  "nbformat_minor": 0,
  "metadata": {
    "colab": {
      "name": "Untitled1.ipynb",
      "provenance": []
    },
    "kernelspec": {
      "name": "python3",
      "display_name": "Python 3"
    },
    "language_info": {
      "name": "python"
    }
  },
  "cells": [
    {
      "cell_type": "code",
      "metadata": {
        "colab": {
          "base_uri": "https://localhost:8080/",
          "height": 235
        },
        "id": "cADjG-Q5jObl",
        "outputId": "6d999fba-57d8-46d3-d645-95b40e058279"
      },
      "source": [
        "import pandas as pd\n",
        "import matplotlib.pyplot as plt\n",
        "import seaborn as sns\n",
        "df=pd.read_csv('NPW.data.csv',index_col = 0,sep = \";\")\n",
        "df.head()\n"
      ],
      "execution_count": 12,
      "outputs": [
        {
          "output_type": "execute_result",
          "data": {
            "text/html": [
              "<div>\n",
              "<style scoped>\n",
              "    .dataframe tbody tr th:only-of-type {\n",
              "        vertical-align: middle;\n",
              "    }\n",
              "\n",
              "    .dataframe tbody tr th {\n",
              "        vertical-align: top;\n",
              "    }\n",
              "\n",
              "    .dataframe thead th {\n",
              "        text-align: right;\n",
              "    }\n",
              "</style>\n",
              "<table border=\"1\" class=\"dataframe\">\n",
              "  <thead>\n",
              "    <tr style=\"text-align: right;\">\n",
              "      <th></th>\n",
              "      <th>Year</th>\n",
              "      <th>NPW</th>\n",
              "    </tr>\n",
              "    <tr>\n",
              "      <th>Percentile</th>\n",
              "      <th></th>\n",
              "      <th></th>\n",
              "    </tr>\n",
              "  </thead>\n",
              "  <tbody>\n",
              "    <tr>\n",
              "      <th>p99.9p100</th>\n",
              "      <td>1993</td>\n",
              "      <td>0.1893</td>\n",
              "    </tr>\n",
              "    <tr>\n",
              "      <th>p99.9p100</th>\n",
              "      <td>1994</td>\n",
              "      <td>0.2241</td>\n",
              "    </tr>\n",
              "    <tr>\n",
              "      <th>p99.9p100</th>\n",
              "      <td>1995</td>\n",
              "      <td>0.2165</td>\n",
              "    </tr>\n",
              "    <tr>\n",
              "      <th>p99.9p100</th>\n",
              "      <td>1996</td>\n",
              "      <td>0.2300</td>\n",
              "    </tr>\n",
              "    <tr>\n",
              "      <th>p99.9p100</th>\n",
              "      <td>1997</td>\n",
              "      <td>0.2247</td>\n",
              "    </tr>\n",
              "  </tbody>\n",
              "</table>\n",
              "</div>"
            ],
            "text/plain": [
              "            Year     NPW\n",
              "Percentile              \n",
              "p99.9p100   1993  0.1893\n",
              "p99.9p100   1994  0.2241\n",
              "p99.9p100   1995  0.2165\n",
              "p99.9p100   1996  0.2300\n",
              "p99.9p100   1997  0.2247"
            ]
          },
          "metadata": {
            "tags": []
          },
          "execution_count": 12
        }
      ]
    },
    {
      "cell_type": "code",
      "metadata": {
        "colab": {
          "base_uri": "https://localhost:8080/",
          "height": 279
        },
        "id": "kjZNVk0wovr6",
        "outputId": "c8684f9d-6f28-4aaa-f044-c3d4e8063829"
      },
      "source": [
        "sns.lineplot(x = \"Year\", y = \"NPW\" , data = df, hue = \"Percentile\")\n",
        "plt.grid()\n",
        "plt.savefig(\"NPW\")"
      ],
      "execution_count": 23,
      "outputs": [
        {
          "output_type": "display_data",
          "data": {
            "image/png": "[encoded data removed]",
            "text/plain": [
              "<Figure size 432x288 with 1 Axes>"
            ]
          },
          "metadata": {
            "tags": [],
            "needs_background": "light"
          }
        }
      ]
    },
    {
      "cell_type": "code",
      "metadata": {
        "id": "LcUzcfE1pLyl"
      },
      "source": [
        ""
      ],
      "execution_count": null,
      "outputs": []
    },
    {
      "cell_type": "code",
      "metadata": {
        "id": "bxkyXtWpskfM"
      },
      "source": [
        ""
      ],
      "execution_count": null,
      "outputs": []
    }
  ]
}