{
  "nbformat": 4,
  "nbformat_minor": 0,
  "metadata": {
    "colab": {
      "name": "python_basic.ipynb",
      "provenance": [],
      "collapsed_sections": []
    },
    "kernelspec": {
      "display_name": "Python 3",
      "name": "python3"
    },
    "language_info": {
      "name": "python"
    }
  },
  "cells": [
    {
      "cell_type": "markdown",
      "metadata": {
        "id": "DDhGRn-bRJWi"
      },
      "source": [
        "# 파이썬 기본문법"
      ]
    },
    {
      "cell_type": "code",
      "metadata": {
        "id": "1yUEIkOZfBlV"
      },
      "source": [
        "a=3"
      ],
      "execution_count": null,
      "outputs": []
    },
    {
      "cell_type": "code",
      "metadata": {
        "colab": {
          "base_uri": "https://localhost:8080/"
        },
        "id": "Cih-R0svfDHO",
        "outputId": "7a3e240c-c0a2-41f6-ea16-e612545c9a8e"
      },
      "source": [
        "print(a)"
      ],
      "execution_count": null,
      "outputs": [
        {
          "output_type": "stream",
          "text": [
            "3\n"
          ],
          "name": "stdout"
        }
      ]
    },
    {
      "cell_type": "code",
      "metadata": {
        "colab": {
          "base_uri": "https://localhost:8080/"
        },
        "id": "9003_j0LfEQG",
        "outputId": "462d8c08-5bb5-4305-a58c-c8f681cf3e0c"
      },
      "source": [
        "print(\"aaaaaa\")"
      ],
      "execution_count": null,
      "outputs": [
        {
          "output_type": "stream",
          "text": [
            "aaaaaa\n"
          ],
          "name": "stdout"
        }
      ]
    },
    {
      "cell_type": "code",
      "metadata": {
        "colab": {
          "base_uri": "https://localhost:8080/"
        },
        "id": "5384KbkffXHb",
        "outputId": "59eaa01a-3fea-4832-c226-5f1b376a0f75"
      },
      "source": [
        ""
      ],
      "execution_count": null,
      "outputs": [
        {
          "output_type": "stream",
          "text": [
            "11\n",
            "11\n"
          ],
          "name": "stdout"
        }
      ]
    },
    {
      "cell_type": "code",
      "metadata": {
        "colab": {
          "base_uri": "https://localhost:8080/"
        },
        "id": "yGVGVf07fxGL",
        "outputId": "75d2089d-817a-4ca2-dfad-8c21015c5cdb"
      },
      "source": [
        "print(\"1\\n-2\\n3.14\")\n"
      ],
      "execution_count": null,
      "outputs": [
        {
          "output_type": "stream",
          "text": [
            "1\n",
            "-2\n",
            "3.14\n"
          ],
          "name": "stdout"
        }
      ]
    },
    {
      "cell_type": "code",
      "metadata": {
        "colab": {
          "base_uri": "https://localhost:8080/"
        },
        "id": "b3LceSQXiidA",
        "outputId": "045469a8-cae8-4b52-8709-80ca62785879"
      },
      "source": [
        "print(6/3)"
      ],
      "execution_count": null,
      "outputs": [
        {
          "output_type": "stream",
          "text": [
            "2.0\n"
          ],
          "name": "stdout"
        }
      ]
    },
    {
      "cell_type": "code",
      "metadata": {
        "colab": {
          "base_uri": "https://localhost:8080/"
        },
        "id": "leNq9A-Ejmqf",
        "outputId": "8eaf8bd0-a35b-45c8-90c2-e2a6a6d777ad"
      },
      "source": [
        "print(5**2)"
      ],
      "execution_count": null,
      "outputs": [
        {
          "output_type": "stream",
          "text": [
            "25\n"
          ],
          "name": "stdout"
        }
      ]
    },
    {
      "cell_type": "code",
      "metadata": {
        "colab": {
          "base_uri": "https://localhost:8080/"
        },
        "id": "lQPeBedCkBES",
        "outputId": "36382d82-0ce5-4c5f-b3f7-bee7ae9908c7"
      },
      "source": [
        "print(3+7)"
      ],
      "execution_count": null,
      "outputs": [
        {
          "output_type": "stream",
          "text": [
            "10\n"
          ],
          "name": "stdout"
        }
      ]
    },
    {
      "cell_type": "code",
      "metadata": {
        "colab": {
          "base_uri": "https://localhost:8080/"
        },
        "id": "L9B7U-fWkDkP",
        "outputId": "b1474f3f-984d-48a5-cd58-87eb9f99cd3c"
      },
      "source": [
        "print('빨', '주', '노', '초', '파', '남' ,'보' )"
      ],
      "execution_count": null,
      "outputs": [
        {
          "output_type": "stream",
          "text": [
            "빨 주 노 초 파 남 보\n"
          ],
          "name": "stdout"
        }
      ]
    },
    {
      "cell_type": "code",
      "metadata": {
        "colab": {
          "base_uri": "https://localhost:8080/",
          "height": 130
        },
        "id": "QqYyGF_rlRsp",
        "outputId": "3112b66b-9548-4bc8-8afd-fb4335b5f28d"
      },
      "source": [
        "cnt(c) = print(\"how many cups of coffee do you want?\",input())\n",
        "print(rainbow)"
      ],
      "execution_count": null,
      "outputs": [
        {
          "output_type": "error",
          "ename": "SyntaxError",
          "evalue": "ignored",
          "traceback": [
            "\u001b[0;36m  File \u001b[0;32m\"<ipython-input-23-0867da2f0bf3>\"\u001b[0;36m, line \u001b[0;32m1\u001b[0m\n\u001b[0;31m    cnt(c) = print(\"how many cups of coffee do you want?\",input())\u001b[0m\n\u001b[0m                                                                  ^\u001b[0m\n\u001b[0;31mSyntaxError\u001b[0m\u001b[0;31m:\u001b[0m can't assign to function call\n"
          ]
        }
      ]
    },
    {
      "cell_type": "code",
      "metadata": {
        "colab": {
          "base_uri": "https://localhost:8080/"
        },
        "id": "WFsIxvCPlim4",
        "outputId": "ecde998a-381a-45ac-a6c9-fa92c25bb72c"
      },
      "source": [
        "a = int(input(\"how many cups of coffee do you want?\"))\n",
        "b = int(input(\"how many cups of juice do you want?\"))\n",
        "d = int(input(\"how many cups of tea do you want?\"))\n",
        "c = 4100\n",
        "j = 4600\n",
        "t = 3900\n",
        "\n",
        "price = print(a*c+b*j+d*t)"
      ],
      "execution_count": null,
      "outputs": [
        {
          "output_type": "stream",
          "text": [
            "how many cups of coffee do you want?1\n",
            "how many cups of juice do you want?2\n",
            "how many cups of tea do you want?3\n",
            "25000\n"
          ],
          "name": "stdout"
        }
      ]
    },
    {
      "cell_type": "code",
      "metadata": {
        "colab": {
          "base_uri": "https://localhost:8080/"
        },
        "id": "NraLE0tdnEfX",
        "outputId": "3cb0855a-7b14-4320-9b01-5d4335b78f3d"
      },
      "source": [
        "my_list3 = ['앨리스',10,[1.0,1.2]]\n",
        "print(my_list3)\n"
      ],
      "execution_count": null,
      "outputs": [
        {
          "output_type": "stream",
          "text": [
            "['앨리스', 10, [1.0, 1.2]]\n"
          ],
          "name": "stdout"
        }
      ]
    },
    {
      "cell_type": "code",
      "metadata": {
        "colab": {
          "base_uri": "https://localhost:8080/",
          "height": 69
        },
        "id": "PUjXvcnutg7S",
        "outputId": "b7431d4c-4f0d-4d83-a30d-d13accaabc38"
      },
      "source": [
        "clovers = [\"클로버 1\"]\n",
        "print(clovers)\n",
        "clovers.append('하트2')\n",
        "print(clovers)\n",
        "clovers[1]\n"
      ],
      "execution_count": null,
      "outputs": [
        {
          "output_type": "stream",
          "text": [
            "['클로버 1']\n",
            "['클로버 1', '하트2']\n"
          ],
          "name": "stdout"
        },
        {
          "output_type": "execute_result",
          "data": {
            "application/vnd.google.colaboratory.intrinsic+json": {
              "type": "string"
            },
            "text/plain": [
              "'하트2'"
            ]
          },
          "metadata": {
            "tags": []
          },
          "execution_count": 41
        }
      ]
    },
    {
      "cell_type": "code",
      "metadata": {
        "colab": {
          "base_uri": "https://localhost:8080/"
        },
        "id": "GqHCyTUfu3Js",
        "outputId": "c42efc3a-70f4-40be-fe3f-9c11c7521274"
      },
      "source": [
        "character = ['앨리스','도도새','3월토끼']\n",
        "print (character\"\")"
      ],
      "execution_count": null,
      "outputs": [
        {
          "output_type": "stream",
          "text": [
            "['앨리스', '도도새', '3월토끼']\n"
          ],
          "name": "stdout"
        }
      ]
    },
    {
      "cell_type": "code",
      "metadata": {
        "colab": {
          "base_uri": "https://localhost:8080/"
        },
        "id": "KZZ0LLo7x250",
        "outputId": "76c0b2f7-722c-494d-a9d2-c4a324ea114b"
      },
      "source": [
        "for x in range (0,3):\n",
        "  print(str(character[x]) )"
      ],
      "execution_count": null,
      "outputs": [
        {
          "output_type": "stream",
          "text": [
            "앨리스\n",
            "도도새\n",
            "3월토끼\n"
          ],
          "name": "stdout"
        }
      ]
    },
    {
      "cell_type": "code",
      "metadata": {
        "colab": {
          "base_uri": "https://localhost:8080/"
        },
        "id": "NJD5WiUIx98v",
        "outputId": "0d412be1-62ce-4cf5-a143-799ec6a1a9ec"
      },
      "source": [
        "for c in character:\n",
        "  print(c)"
      ],
      "execution_count": null,
      "outputs": [
        {
          "output_type": "stream",
          "text": [
            "앨리스\n",
            "도도새\n",
            "3월토끼\n"
          ],
          "name": "stdout"
        }
      ]
    },
    {
      "cell_type": "code",
      "metadata": {
        "colab": {
          "base_uri": "https://localhost:8080/"
        },
        "id": "8qh3eYxLyyzv",
        "outputId": "859741b0-43bf-4655-f548-f7093f08b89e"
      },
      "source": [
        "num = [1,2,3,4,5,6]\n",
        "for c in num:\n",
        "  print(c)"
      ],
      "execution_count": null,
      "outputs": [
        {
          "output_type": "stream",
          "text": [
            "1\n",
            "2\n",
            "3\n",
            "4\n",
            "5\n",
            "6\n"
          ],
          "name": "stdout"
        }
      ]
    },
    {
      "cell_type": "code",
      "metadata": {
        "colab": {
          "base_uri": "https://localhost:8080/",
          "height": 232
        },
        "id": "R0z2Rpgjy-h2",
        "outputId": "18fae362-f35c-4bb6-9e4c-7c0326faadf2"
      },
      "source": [
        "x = \"*\"\n",
        "n=\n",
        "for i in x:\n",
        "  print(i)*n\n",
        "  "
      ],
      "execution_count": null,
      "outputs": [
        {
          "output_type": "stream",
          "text": [
            "*\n"
          ],
          "name": "stdout"
        },
        {
          "output_type": "error",
          "ename": "NameError",
          "evalue": "ignored",
          "traceback": [
            "\u001b[0;31m---------------------------------------------------------------------------\u001b[0m",
            "\u001b[0;31mNameError\u001b[0m                                 Traceback (most recent call last)",
            "\u001b[0;32m<ipython-input-77-c77009e431c1>\u001b[0m in \u001b[0;36m<module>\u001b[0;34m()\u001b[0m\n\u001b[1;32m      1\u001b[0m \u001b[0mx\u001b[0m \u001b[0;34m=\u001b[0m \u001b[0;34m\"*\"\u001b[0m\u001b[0;34m\u001b[0m\u001b[0;34m\u001b[0m\u001b[0m\n\u001b[1;32m      2\u001b[0m \u001b[0;32mfor\u001b[0m \u001b[0mi\u001b[0m \u001b[0;32min\u001b[0m \u001b[0mx\u001b[0m\u001b[0;34m:\u001b[0m\u001b[0;34m\u001b[0m\u001b[0;34m\u001b[0m\u001b[0m\n\u001b[0;32m----> 3\u001b[0;31m   \u001b[0mprint\u001b[0m\u001b[0;34m(\u001b[0m\u001b[0mi\u001b[0m\u001b[0;34m)\u001b[0m\u001b[0;34m*\u001b[0m\u001b[0mn\u001b[0m\u001b[0;34m\u001b[0m\u001b[0;34m\u001b[0m\u001b[0m\n\u001b[0m\u001b[1;32m      4\u001b[0m \u001b[0;34m\u001b[0m\u001b[0m\n",
            "\u001b[0;31mNameError\u001b[0m: name 'n' is not defined"
          ]
        }
      ]
    },
    {
      "cell_type": "code",
      "metadata": {
        "id": "EFEbb6Sj0VxY"
      },
      "source": [
        "todo\n",
        "\n",
        "# *\n",
        "# **\n",
        "# ***"
      ],
      "execution_count": null,
      "outputs": []
    },
    {
      "cell_type": "code",
      "metadata": {
        "colab": {
          "base_uri": "https://localhost:8080/"
        },
        "id": "ajaTCFKV0uA3",
        "outputId": "3d65fd7f-13ea-4a90-fbfc-9de5b5c04f7d"
      },
      "source": [
        "for x in range(1,4):\n",
        "  print(\"*\"*x)"
      ],
      "execution_count": null,
      "outputs": [
        {
          "output_type": "stream",
          "text": [
            "*\n",
            "**\n",
            "***\n"
          ],
          "name": "stdout"
        }
      ]
    },
    {
      "cell_type": "code",
      "metadata": {
        "id": "dd_NmYp407nQ"
      },
      "source": [
        "todo\n",
        "\n",
        "# *****\n",
        "# ****\n",
        "# ***\n",
        "# **\n",
        "# *\n"
      ],
      "execution_count": null,
      "outputs": []
    },
    {
      "cell_type": "code",
      "metadata": {
        "colab": {
          "base_uri": "https://localhost:8080/"
        },
        "id": "Gi_AM0u21Tb8",
        "outputId": "bc552c72-f300-4594-bb95-105d58e6e9c5"
      },
      "source": [
        "for x in range (1,6):\n",
        "  print(\"*\"*(6-x))"
      ],
      "execution_count": null,
      "outputs": [
        {
          "output_type": "stream",
          "text": [
            "*****\n",
            "****\n",
            "***\n",
            "**\n",
            "*\n"
          ],
          "name": "stdout"
        }
      ]
    },
    {
      "cell_type": "code",
      "metadata": {
        "colab": {
          "base_uri": "https://localhost:8080/"
        },
        "id": "edd2MMd81ciI",
        "outputId": "be1d1785-c921-433c-ae8d-b065ba2ec1c0"
      },
      "source": [
        "arr= [1,2,3,4,5,6]\n",
        "for x in range (0,4):\n",
        "  for i in range (0,3):   \n",
        "     print(int(1)*x\n",
        "           )"
      ],
      "execution_count": null,
      "outputs": [
        {
          "output_type": "stream",
          "text": [
            "0\n",
            "0\n",
            "0\n",
            "1\n",
            "1\n",
            "1\n",
            "2\n",
            "2\n",
            "2\n",
            "3\n",
            "3\n",
            "3\n"
          ],
          "name": "stdout"
        }
      ]
    },
    {
      "cell_type": "code",
      "metadata": {
        "colab": {
          "base_uri": "https://localhost:8080/"
        },
        "id": "ac8SHxVc2puw",
        "outputId": "a353104d-6bf0-4671-b7ca-9f58ba021776"
      },
      "source": [
        "players = ['공작부인','흰 토끼','하트잭','모자장수']\n",
        "for x in players:\n",
        "  print(x+\"!\")             "
      ],
      "execution_count": null,
      "outputs": [
        {
          "output_type": "stream",
          "text": [
            "공작부인!\n",
            "흰 토끼!\n",
            "하트잭!\n",
            "모자장수!\n"
          ],
          "name": "stdout"
        }
      ]
    },
    {
      "cell_type": "code",
      "metadata": {
        "colab": {
          "base_uri": "https://localhost:8080/"
        },
        "id": "NvVzZLWmYBMb",
        "outputId": "0b6ab779-4604-4905-85fa-bb8b52e6e255"
      },
      "source": [
        "cat = '체셔고양이'\n",
        "for i in cat:\n",
        "  print(i)"
      ],
      "execution_count": null,
      "outputs": [
        {
          "output_type": "stream",
          "text": [
            "체\n",
            "셔\n",
            "고\n",
            "양\n",
            "이\n"
          ],
          "name": "stdout"
        }
      ]
    },
    {
      "cell_type": "code",
      "metadata": {
        "colab": {
          "base_uri": "https://localhost:8080/"
        },
        "id": "_rEbd2npY9ee",
        "outputId": "ae4a6b68-84cf-4e24-bcb3-d05c071ca670"
      },
      "source": [
        "nums = [0,1,2]\n",
        "for num in nums : \n",
        "\tprint(num)\n",
        "print(nums)"
      ],
      "execution_count": null,
      "outputs": [
        {
          "output_type": "stream",
          "text": [
            "0\n",
            "1\n",
            "2\n",
            "[0, 1, 2]\n"
          ],
          "name": "stdout"
        }
      ]
    },
    {
      "cell_type": "code",
      "metadata": {
        "colab": {
          "base_uri": "https://localhost:8080/"
        },
        "id": "kbBzBnBvZ0tQ",
        "outputId": "ea08374d-d688-45dc-8cba-105d4ed96c60"
      },
      "source": [
        "nums = [0,1,2]\n",
        "for num in nums : \n",
        "\tprint(num)\n",
        "\tprint(nums)"
      ],
      "execution_count": null,
      "outputs": [
        {
          "output_type": "stream",
          "text": [
            "0\n",
            "[0, 1, 2]\n",
            "1\n",
            "[0, 1, 2]\n",
            "2\n",
            "[0, 1, 2]\n"
          ],
          "name": "stdout"
        }
      ]
    },
    {
      "cell_type": "code",
      "metadata": {
        "colab": {
          "base_uri": "https://localhost:8080/"
        },
        "id": "tmrbqj63Z3Gw",
        "outputId": "d225a2a5-ec52-40a6-9d12-9038cb6e1c7b"
      },
      "source": [
        "for i in range(1,10): \n",
        "     \n",
        "   print(num,'x',i,'=',num*i)  "
      ],
      "execution_count": null,
      "outputs": [
        {
          "output_type": "stream",
          "text": [
            "2 x 1 = 2\n",
            "2 x 2 = 4\n",
            "2 x 3 = 6\n",
            "2 x 4 = 8\n",
            "2 x 5 = 10\n",
            "2 x 6 = 12\n",
            "2 x 7 = 14\n",
            "2 x 8 = 16\n",
            "2 x 9 = 18\n"
          ],
          "name": "stdout"
        }
      ]
    },
    {
      "cell_type": "code",
      "metadata": {
        "colab": {
          "base_uri": "https://localhost:8080/"
        },
        "id": "30eefHePbMb_",
        "outputId": "92e27c23-0cfc-47ad-8643-b92fe84e494d"
      },
      "source": [
        "roses = '하얀장미,하얀장미,하얀장미'\n",
        "print(roses.replace('하얀장미','빨간장미'))\n"
      ],
      "execution_count": null,
      "outputs": [
        {
          "output_type": "stream",
          "text": [
            "빨간장미,빨간장미,빨간장미\n"
          ],
          "name": "stdout"
        }
      ]
    },
    {
      "cell_type": "code",
      "metadata": {
        "colab": {
          "base_uri": "https://localhost:8080/"
        },
        "id": "FUQstIO_b3n_",
        "outputId": "0191d9d5-7256-4148-d3d1-add68537f485"
      },
      "source": [
        "mystr = 'apples, bananas, apples, apples, cherries'\n",
        "print(mystr.replace('apples','lemons'))"
      ],
      "execution_count": null,
      "outputs": [
        {
          "output_type": "stream",
          "text": [
            "lemons, bananas, lemons, lemons, cherries\n"
          ],
          "name": "stdout"
        }
      ]
    },
    {
      "cell_type": "code",
      "metadata": {
        "colab": {
          "base_uri": "https://localhost:8080/"
        },
        "id": "tAvxN0PJcoT6",
        "outputId": "359be008-f889-4354-c350-ebe3d89daf11"
      },
      "source": [
        "print(True)\n"
      ],
      "execution_count": null,
      "outputs": [
        {
          "output_type": "stream",
          "text": [
            "True\n"
          ],
          "name": "stdout"
        }
      ]
    },
    {
      "cell_type": "code",
      "metadata": {
        "colab": {
          "base_uri": "https://localhost:8080/"
        },
        "id": "lo42oOJ2T6Z_",
        "outputId": "65f232de-b670-4103-c43f-684ca2a5fb10"
      },
      "source": [
        "print(1 == 2)\n"
      ],
      "execution_count": null,
      "outputs": [
        {
          "output_type": "stream",
          "text": [
            "False\n"
          ],
          "name": "stdout"
        }
      ]
    },
    {
      "cell_type": "code",
      "metadata": {
        "colab": {
          "base_uri": "https://localhost:8080/"
        },
        "id": "TqfwyQT1UtQq",
        "outputId": "e91ed23c-d325-4070-e4a7-edea8b467441"
      },
      "source": [
        "count = 1\n",
        "while count <= 5:\n",
        "  print(count,\"번째 바퀴입니다\")\n",
        "  count = count + 1\n",
        "print(\"경주 끝!\")\n"
      ],
      "execution_count": null,
      "outputs": [
        {
          "output_type": "stream",
          "text": [
            "1 번째 바퀴입니다\n",
            "2 번째 바퀴입니다\n",
            "3 번째 바퀴입니다\n",
            "4 번째 바퀴입니다\n",
            "5 번째 바퀴입니다\n",
            "경주 끝!\n"
          ],
          "name": "stdout"
        }
      ]
    },
    {
      "cell_type": "code",
      "metadata": {
        "colab": {
          "base_uri": "https://localhost:8080/"
        },
        "id": "_msel3sMW3N0",
        "outputId": "76677f07-aa70-4ce0-89c7-f62c2cc9853b"
      },
      "source": [
        "\n",
        "print(\"안녕\",name) "
      ],
      "execution_count": null,
      "outputs": [
        {
          "output_type": "stream",
          "text": [
            "안녕 ㄴㄴ\n"
          ],
          "name": "stdout"
        }
      ]
    },
    {
      "cell_type": "code",
      "metadata": {
        "colab": {
          "base_uri": "https://localhost:8080/"
        },
        "id": "pHTH4YHrYMCO",
        "outputId": "e621dc53-dc1e-45f1-8a64-db679553fae2"
      },
      "source": [
        "my_tuple = [1,]\n",
        "\n",
        "print(type(my_tuple))"
      ],
      "execution_count": null,
      "outputs": [
        {
          "output_type": "stream",
          "text": [
            "<class 'list'>\n"
          ],
          "name": "stdout"
        }
      ]
    },
    {
      "cell_type": "code",
      "metadata": {
        "colab": {
          "base_uri": "https://localhost:8080/"
        },
        "id": "PzIKkgN0YrNN",
        "outputId": "fa98a05a-efa0-4952-aa84-8ee14ddba726"
      },
      "source": [
        "def judge_cards(name):\n",
        "  for i in range(3):\n",
        "    print(name,i+1,'유죄')\n",
        "judge_cards('하트')\n",
        "judge_cards('클로버')\n",
        "judge_cards('스페이드')"
      ],
      "execution_count": null,
      "outputs": [
        {
          "output_type": "stream",
          "text": [
            "하트 1 유죄\n",
            "하트 2 유죄\n",
            "하트 3 유죄\n",
            "클로버 1 유죄\n",
            "클로버 2 유죄\n",
            "클로버 3 유죄\n",
            "스페이드 1 유죄\n",
            "스페이드 2 유죄\n",
            "스페이드 3 유죄\n"
          ],
          "name": "stdout"
        }
      ]
    },
    {
      "cell_type": "code",
      "metadata": {
        "colab": {
          "base_uri": "https://localhost:8080/",
          "height": 35
        },
        "id": "1oZxmBJaf4Z9",
        "outputId": "e63ec274-4bf9-48f5-8767-1d53ccdbbd67"
      },
      "source": [
        "import random \n",
        "animals = ['체셔고양이','오리','도도새']\n",
        "animals[random.randint(1,3)]"
      ],
      "execution_count": null,
      "outputs": [
        {
          "output_type": "execute_result",
          "data": {
            "application/vnd.google.colaboratory.intrinsic+json": {
              "type": "string"
            },
            "text/plain": [
              "'도도새'"
            ]
          },
          "metadata": {
            "tags": []
          },
          "execution_count": 31
        }
      ]
    },
    {
      "cell_type": "code",
      "metadata": {
        "id": "O_kRRJT2jbJA"
      },
      "source": [
        "def all_unique(lst):\n",
        "  if lst "
      ],
      "execution_count": null,
      "outputs": []
    },
    {
      "cell_type": "code",
      "metadata": {
        "colab": {
          "base_uri": "https://localhost:8080/",
          "height": 52
        },
        "id": "gvcepbAdkwBM",
        "outputId": "50349f79-b6b6-46db-d651-625e71959f94"
      },
      "source": [
        "name = input()\n",
        "name.upper()"
      ],
      "execution_count": null,
      "outputs": [
        {
          "output_type": "stream",
          "text": [
            "ddjddj\n"
          ],
          "name": "stdout"
        },
        {
          "output_type": "execute_result",
          "data": {
            "application/vnd.google.colaboratory.intrinsic+json": {
              "type": "string"
            },
            "text/plain": [
              "'DDJDDJ'"
            ]
          },
          "metadata": {
            "tags": []
          },
          "execution_count": 40
        }
      ]
    },
    {
      "cell_type": "code",
      "metadata": {
        "colab": {
          "base_uri": "https://localhost:8080/"
        },
        "id": "UVCMdL-Hyxp1",
        "outputId": "97f690a7-a5e6-4fa5-a131-966ec3f8b710"
      },
      "source": [
        "qe = input()\n",
        "new = qe.replace(\"e\",\"q\")\n",
        "print(new)"
      ],
      "execution_count": null,
      "outputs": [
        {
          "output_type": "stream",
          "text": [
            "qwqwqwqweeeeeeee\n",
            "qwqwqwqwqqqqqqqq\n"
          ],
          "name": "stdout"
        }
      ]
    },
    {
      "cell_type": "code",
      "metadata": {
        "colab": {
          "base_uri": "https://localhost:8080/",
          "height": 52
        },
        "id": "aSmFb0tRzvlV",
        "outputId": "59b28bdd-2c73-449e-9309-d96a79ea7199"
      },
      "source": [
        "capital = input()\n",
        "capital.upper()"
      ],
      "execution_count": null,
      "outputs": [
        {
          "output_type": "stream",
          "text": [
            "sksksk\n"
          ],
          "name": "stdout"
        },
        {
          "output_type": "execute_result",
          "data": {
            "application/vnd.google.colaboratory.intrinsic+json": {
              "type": "string"
            },
            "text/plain": [
              "'SKSKSK'"
            ]
          },
          "metadata": {
            "tags": []
          },
          "execution_count": 45
        }
      ]
    },
    {
      "cell_type": "code",
      "metadata": {
        "id": "j28jf_vv05lJ",
        "colab": {
          "base_uri": "https://localhost:8080/"
        },
        "outputId": "86d935dd-b6bb-456c-ae18-ab95f3868e5f"
      },
      "source": [
        "total_price = 0\n",
        "ages = [22,21,17,32,4,28,19,8]\n",
        "for i in ages:\n",
        "  if 10<=i<=19: \n",
        "    total_price = total_price + 5000\n",
        "  elif i>19:\n",
        "    total_price = total_price + 8000\n",
        "  elif i<10:\n",
        "    total_price = total_price + 2500\n",
        "  \n",
        "print(total_price)\n"
      ],
      "execution_count": null,
      "outputs": [
        {
          "output_type": "stream",
          "text": [
            "47000\n"
          ],
          "name": "stdout"
        }
      ]
    },
    {
      "cell_type": "code",
      "metadata": {
        "colab": {
          "base_uri": "https://localhost:8080/"
        },
        "id": "SBYfI12FMEfd",
        "outputId": "d016e0f1-0d46-4b0a-c56e-9e26e51afcaa"
      },
      "source": [
        "games = 12\n",
        "points = 25\n",
        "\n",
        "if games > 12 and points > 25:\n",
        "  print(\"MVP\")\n",
        "else:\n",
        "  print(\"NO MVP\")"
      ],
      "execution_count": null,
      "outputs": [
        {
          "output_type": "stream",
          "text": [
            "NO MVP\n"
          ],
          "name": "stdout"
        }
      ]
    },
    {
      "cell_type": "code",
      "metadata": {
        "id": "N5cV8x5cNf_8",
        "colab": {
          "base_uri": "https://localhost:8080/"
        },
        "outputId": "ab86a2dc-6300-4e99-bd7b-135ac440dd7a"
      },
      "source": [
        "suspects = [['거위','새','암컷'],['푸들','개','수컷'],['비글','개','암컷']]\n",
        "\n",
        "for i in suspects: \n",
        "  if i[1] == '개' and i[2] == '암컷':\n",
        "    print(i[0])\n"
      ],
      "execution_count": null,
      "outputs": [
        {
          "output_type": "stream",
          "text": [
            "비글\n"
          ],
          "name": "stdout"
        }
      ]
    },
    {
      "cell_type": "code",
      "metadata": {
        "colab": {
          "base_uri": "https://localhost:8080/"
        },
        "id": "w4B0CEESP2Ax",
        "outputId": "536cb06c-57e5-44da-e60a-2c9c6e9bf30c"
      },
      "source": [
        "import random \n",
        "cards = ['하트','클로버','스페이드']\n",
        "print(random.choice(cards),\"유죄!\")"
      ],
      "execution_count": null,
      "outputs": [
        {
          "output_type": "stream",
          "text": [
            "클로버 유죄!\n"
          ],
          "name": "stdout"
        }
      ]
    },
    {
      "cell_type": "code",
      "metadata": {
        "colab": {
          "base_uri": "https://localhost:8080/"
        },
        "id": "Q6CGhGmbZ5ZV",
        "outputId": "7437caa6-0e45-40b0-fea7-b23ac6563c78"
      },
      "source": [
        "clovers = ['클로버1', '하트2', '클로버3']\n",
        "clovers[1] = '클로버2'\n",
        "print(clovers[1])"
      ],
      "execution_count": null,
      "outputs": [
        {
          "output_type": "stream",
          "text": [
            "클로버2\n"
          ],
          "name": "stdout"
        }
      ]
    },
    {
      "cell_type": "code",
      "metadata": {
        "colab": {
          "base_uri": "https://localhost:8080/",
          "height": 232
        },
        "id": "VhBFjn_ba6qB",
        "outputId": "ec867ba8-0db0-4c99-ce82-49db1d2e6dfb"
      },
      "source": [
        " clovers = ['클로버1', '하트2', '클로버3']\n",
        "\n",
        "new_strings = []\n",
        "\n",
        "for string in strings:\n",
        "    new_string = string.replace(\"하트2\", \"클로버1\")\n",
        "\n",
        "    new_strings.append(new_string)\n",
        "\n",
        "print(new_strings)"
      ],
      "execution_count": null,
      "outputs": [
        {
          "output_type": "error",
          "ename": "NameError",
          "evalue": "ignored",
          "traceback": [
            "\u001b[0;31m---------------------------------------------------------------------------\u001b[0m",
            "\u001b[0;31mNameError\u001b[0m                                 Traceback (most recent call last)",
            "\u001b[0;32m<ipython-input-15-582f80b09314>\u001b[0m in \u001b[0;36m<module>\u001b[0;34m()\u001b[0m\n\u001b[1;32m      3\u001b[0m \u001b[0mnew_strings\u001b[0m \u001b[0;34m=\u001b[0m \u001b[0;34m[\u001b[0m\u001b[0;34m]\u001b[0m\u001b[0;34m\u001b[0m\u001b[0;34m\u001b[0m\u001b[0m\n\u001b[1;32m      4\u001b[0m \u001b[0;34m\u001b[0m\u001b[0m\n\u001b[0;32m----> 5\u001b[0;31m \u001b[0;32mfor\u001b[0m \u001b[0mstring\u001b[0m \u001b[0;32min\u001b[0m \u001b[0mstrings\u001b[0m\u001b[0;34m:\u001b[0m\u001b[0;34m\u001b[0m\u001b[0;34m\u001b[0m\u001b[0m\n\u001b[0m\u001b[1;32m      6\u001b[0m    \u001b[0mnew_string\u001b[0m \u001b[0;34m=\u001b[0m \u001b[0mstring\u001b[0m\u001b[0;34m.\u001b[0m\u001b[0mreplace\u001b[0m\u001b[0;34m(\u001b[0m\u001b[0;34m\"하트2\"\u001b[0m\u001b[0;34m,\u001b[0m \u001b[0;34m\"클로버1\"\u001b[0m\u001b[0;34m)\u001b[0m\u001b[0;34m\u001b[0m\u001b[0;34m\u001b[0m\u001b[0m\n\u001b[1;32m      7\u001b[0m \u001b[0;34m\u001b[0m\u001b[0m\n",
            "\u001b[0;31mNameError\u001b[0m: name 'strings' is not defined"
          ]
        }
      ]
    },
    {
      "cell_type": "code",
      "metadata": {
        "id": "iBOp2kzObong"
      },
      "source": [
        "<question>\n",
        "\n",
        "fruits = ['apple','banana','kiwi']\n",
        "\n",
        "#code here\n",
        "\n",
        "<output>\n",
        "\n",
        "This is apple\n",
        "This is banana\n",
        "This is kiwi"
      ],
      "execution_count": null,
      "outputs": []
    },
    {
      "cell_type": "code",
      "metadata": {
        "colab": {
          "base_uri": "https://localhost:8080/"
        },
        "id": "FE8wNG-jqHf6",
        "outputId": "18bca892-07ca-4265-9ead-9148bf839fa0"
      },
      "source": [
        "fruits = ['apple','banana','kiwi']\n",
        "\n",
        "for i in fruits:\n",
        "  print(i,\"입니다\")"
      ],
      "execution_count": null,
      "outputs": [
        {
          "output_type": "stream",
          "text": [
            "apple 입니다\n",
            "banana 입니다\n",
            "kiwi 입니다\n"
          ],
          "name": "stdout"
        }
      ]
    },
    {
      "cell_type": "code",
      "metadata": {
        "colab": {
          "base_uri": "https://localhost:8080/"
        },
        "id": "SxIkvO2oqYne",
        "outputId": "1caa3620-1efa-4438-eb60-0886043ae5e4"
      },
      "source": [
        "clovers = ['클로버1', '클로버2', '클로버3']\n",
        "clovers.remove('클로버2')\n",
        "print(clovers)"
      ],
      "execution_count": null,
      "outputs": [
        {
          "output_type": "stream",
          "text": [
            "['클로버1', '클로버3']\n"
          ],
          "name": "stdout"
        }
      ]
    },
    {
      "cell_type": "code",
      "metadata": {
        "colab": {
          "base_uri": "https://localhost:8080/"
        },
        "id": "vW2YJKXQt5r0",
        "outputId": "e015345f-fa0b-4724-ad11-d0f1f03ee353"
      },
      "source": [
        "candies = ['딸기맛','레몬맛','수박맛','박하맛','우유맛']\n",
        "candies.remove('박하맛')\n",
        "candies.append('콜라맛')\n",
        "print(candies)"
      ],
      "execution_count": null,
      "outputs": [
        {
          "output_type": "stream",
          "text": [
            "['딸기맛', '레몬맛', '수박맛', '우유맛', '콜라맛']\n"
          ],
          "name": "stdout"
        }
      ]
    },
    {
      "cell_type": "code",
      "metadata": {
        "colab": {
          "base_uri": "https://localhost:8080/"
        },
        "id": "MhxtxA5fusOp",
        "outputId": "7f88a9d4-2229-4a7a-ebfb-585c2b57254c"
      },
      "source": [
        "week = ['월','화','수','목','금','토','일']\n",
        "\n",
        "print(week[2],week[3],week[4])"
      ],
      "execution_count": null,
      "outputs": [
        {
          "output_type": "stream",
          "text": [
            "수 목 금\n"
          ],
          "name": "stdout"
        }
      ]
    },
    {
      "cell_type": "code",
      "metadata": {
        "colab": {
          "base_uri": "https://localhost:8080/"
        },
        "id": "gfGCqV_AvDc8",
        "outputId": "d3d9076b-095a-4e52-c3cd-01ec239945ca"
      },
      "source": [
        "candies = ['딸기맛','레몬맛','수박맛','우유맛','콜라맛','포도맛']\n",
        "\n",
        "cat_candies = candies[0]\n",
        "duck_candies = candies[1]\n",
        "dodo_candies = candies[3:6]\n",
        "print('체셔고양이에게는',cat_candies,'사탕을 줘요.')\n",
        "print('오리에게는',duck_candies,'사탕을 줘요.')\n",
        "print('도도새에게는',dodo_candies,'사탕을 줘요.')"
      ],
      "execution_count": null,
      "outputs": [
        {
          "output_type": "stream",
          "text": [
            "체셔고양이에게는 딸기맛 사탕을 줘요.\n",
            "오리에게는 레몬맛 사탕을 줘요.\n",
            "도도새에게는 ['우유맛', '콜라맛', '포도맛'] 사탕을 줘요.\n"
          ],
          "name": "stdout"
        }
      ]
    },
    {
      "cell_type": "code",
      "metadata": {
        "colab": {
          "base_uri": "https://localhost:8080/"
        },
        "id": "j7hl6PMWv9p3",
        "outputId": "454c3145-f449-4039-c5ed-c9fe312ed493"
      },
      "source": [
        "animals = ['체셔고양이', '오리', '도도새']\n",
        "animals.sort()\n",
        "animals"
      ],
      "execution_count": null,
      "outputs": [
        {
          "output_type": "execute_result",
          "data": {
            "text/plain": [
              "['도도새', '오리', '체셔고양이']"
            ]
          },
          "metadata": {
            "tags": []
          },
          "execution_count": 53
        }
      ]
    },
    {
      "cell_type": "code",
      "metadata": {
        "colab": {
          "base_uri": "https://localhost:8080/"
        },
        "id": "7JNKvzgLwrIc",
        "outputId": "a103c02a-9867-42fc-ef86-413c3b99e3df"
      },
      "source": [
        "cards = ['하트','클로버','하트','다이아']\n",
        "cards.count('하트')\n"
      ],
      "execution_count": null,
      "outputs": [
        {
          "output_type": "execute_result",
          "data": {
            "text/plain": [
              "2"
            ]
          },
          "metadata": {
            "tags": []
          },
          "execution_count": 58
        }
      ]
    },
    {
      "cell_type": "code",
      "metadata": {
        "colab": {
          "base_uri": "https://localhost:8080/",
          "height": 35
        },
        "id": "kNkpadO6xEHV",
        "outputId": "d9e590f3-bc85-4f21-8fac-74a6dc7194c9"
      },
      "source": [
        "a = ['A','B','c','d','E']\n",
        "b = []\n",
        "\n",
        "i = 0\n",
        "\n",
        "for i in range(5) :\n",
        "  if (a[i].isupper() == 1) :\n",
        "    b.append(a[i])\n",
        "    # print(i, \"번째 : \", b)\n",
        "\n",
        "str(b)"
      ],
      "execution_count": null,
      "outputs": [
        {
          "output_type": "execute_result",
          "data": {
            "application/vnd.google.colaboratory.intrinsic+json": {
              "type": "string"
            },
            "text/plain": [
              "\"['A', 'B', 'E']\""
            ]
          },
          "metadata": {
            "tags": []
          },
          "execution_count": 59
        }
      ]
    },
    {
      "cell_type": "code",
      "metadata": {
        "colab": {
          "base_uri": "https://localhost:8080/"
        },
        "id": "ovmBjIwG0LH0",
        "outputId": "88f37435-4337-4d6a-e79f-226569f52c10"
      },
      "source": [
        "a = list(input())\n",
        "b = []\n",
        "\n",
        "if (a[i].isupper() == True):\n",
        "  b.append(a[i])"
      ],
      "execution_count": null,
      "outputs": [
        {
          "output_type": "stream",
          "text": [
            "HelloWorld! I Love Futureskill\n"
          ],
          "name": "stdout"
        }
      ]
    },
    {
      "cell_type": "code",
      "metadata": {
        "colab": {
          "base_uri": "https://localhost:8080/",
          "height": 232
        },
        "id": "XlVfOssF0Xwn",
        "outputId": "969210a3-eab4-4cf9-8f27-7c2847878a17"
      },
      "source": [
        "a = list(input())\n",
        "b = []\n",
        "\n",
        "if a.isupper() == True:\n",
        "  print(b)"
      ],
      "execution_count": null,
      "outputs": [
        {
          "output_type": "stream",
          "text": [
            "HelloWorld! I Love Futureskill\n"
          ],
          "name": "stdout"
        },
        {
          "output_type": "error",
          "ename": "AttributeError",
          "evalue": "ignored",
          "traceback": [
            "\u001b[0;31m---------------------------------------------------------------------------\u001b[0m",
            "\u001b[0;31mAttributeError\u001b[0m                            Traceback (most recent call last)",
            "\u001b[0;32m<ipython-input-66-233163c75792>\u001b[0m in \u001b[0;36m<module>\u001b[0;34m()\u001b[0m\n\u001b[1;32m      2\u001b[0m \u001b[0mb\u001b[0m \u001b[0;34m=\u001b[0m \u001b[0;34m[\u001b[0m\u001b[0;34m]\u001b[0m\u001b[0;34m\u001b[0m\u001b[0;34m\u001b[0m\u001b[0m\n\u001b[1;32m      3\u001b[0m \u001b[0;34m\u001b[0m\u001b[0m\n\u001b[0;32m----> 4\u001b[0;31m \u001b[0;32mif\u001b[0m \u001b[0ma\u001b[0m\u001b[0;34m.\u001b[0m\u001b[0misupper\u001b[0m\u001b[0;34m(\u001b[0m\u001b[0;34m)\u001b[0m \u001b[0;34m==\u001b[0m \u001b[0;32mTrue\u001b[0m\u001b[0;34m:\u001b[0m\u001b[0;34m\u001b[0m\u001b[0;34m\u001b[0m\u001b[0m\n\u001b[0m\u001b[1;32m      5\u001b[0m   \u001b[0mprint\u001b[0m\u001b[0;34m(\u001b[0m\u001b[0ma\u001b[0m\u001b[0;34m)\u001b[0m\u001b[0;34m\u001b[0m\u001b[0;34m\u001b[0m\u001b[0m\n",
            "\u001b[0;31mAttributeError\u001b[0m: 'list' object has no attribute 'isupper'"
          ]
        }
      ]
    },
    {
      "cell_type": "code",
      "metadata": {
        "id": "xp_pfvLr1b1A"
      },
      "source": [
        "def compress(a):\n",
        "    x= list(input())\n",
        "    for i in range(0,len(a)) :\n",
        "        if a[i].isupper() is True :\n",
        "            x.append(a[i])\n",
        "    return x"
      ],
      "execution_count": null,
      "outputs": []
    },
    {
      "cell_type": "code",
      "metadata": {
        "colab": {
          "base_uri": "https://localhost:8080/",
          "height": 249
        },
        "id": "xn6nTa1f5cUC",
        "outputId": "a23a6edc-10ad-445b-f77a-93244e5e26cd"
      },
      "source": [
        "x = input()\n",
        "\n",
        "for i in len(x):\n",
        "  if i.isupper() == True: \n",
        "    print(x)\n",
        "  else:\n",
        "    i.upper()\n",
        "    \n"
      ],
      "execution_count": null,
      "outputs": [
        {
          "output_type": "stream",
          "text": [
            "a B D\n"
          ],
          "name": "stdout"
        },
        {
          "output_type": "error",
          "ename": "TypeError",
          "evalue": "ignored",
          "traceback": [
            "\u001b[0;31m---------------------------------------------------------------------------\u001b[0m",
            "\u001b[0;31mTypeError\u001b[0m                                 Traceback (most recent call last)",
            "\u001b[0;32m<ipython-input-78-bff98bbf7097>\u001b[0m in \u001b[0;36m<module>\u001b[0;34m()\u001b[0m\n\u001b[1;32m      1\u001b[0m \u001b[0mx\u001b[0m \u001b[0;34m=\u001b[0m \u001b[0minput\u001b[0m\u001b[0;34m(\u001b[0m\u001b[0;34m)\u001b[0m\u001b[0;34m\u001b[0m\u001b[0;34m\u001b[0m\u001b[0m\n\u001b[1;32m      2\u001b[0m \u001b[0;34m\u001b[0m\u001b[0m\n\u001b[0;32m----> 3\u001b[0;31m \u001b[0;32mfor\u001b[0m \u001b[0mi\u001b[0m \u001b[0;32min\u001b[0m \u001b[0mlen\u001b[0m\u001b[0;34m(\u001b[0m\u001b[0mx\u001b[0m\u001b[0;34m)\u001b[0m\u001b[0;34m:\u001b[0m\u001b[0;34m\u001b[0m\u001b[0;34m\u001b[0m\u001b[0m\n\u001b[0m\u001b[1;32m      4\u001b[0m   \u001b[0;32mif\u001b[0m \u001b[0mi\u001b[0m\u001b[0;34m.\u001b[0m\u001b[0misupper\u001b[0m\u001b[0;34m(\u001b[0m\u001b[0;34m)\u001b[0m \u001b[0;34m==\u001b[0m \u001b[0;32mTrue\u001b[0m\u001b[0;34m:\u001b[0m\u001b[0;34m\u001b[0m\u001b[0;34m\u001b[0m\u001b[0m\n\u001b[1;32m      5\u001b[0m     \u001b[0mprint\u001b[0m\u001b[0;34m(\u001b[0m\u001b[0mx\u001b[0m\u001b[0;34m)\u001b[0m\u001b[0;34m\u001b[0m\u001b[0;34m\u001b[0m\u001b[0m\n",
            "\u001b[0;31mTypeError\u001b[0m: 'int' object is not iterable"
          ]
        }
      ]
    },
    {
      "cell_type": "code",
      "metadata": {
        "colab": {
          "base_uri": "https://localhost:8080/"
        },
        "id": "_OmuUZ2f9UNO",
        "outputId": "de5298d9-f42e-4485-9274-8d49ca9f8f63"
      },
      "source": [
        "a = input()\n",
        "b = []\n",
        "\n",
        "for i in a:\n",
        "  if i.isupper() == True: \n",
        "    b.append(i)\n",
        "  else:\n",
        "    b.append(i.upper())\n"
      ],
      "execution_count": null,
      "outputs": [
        {
          "output_type": "stream",
          "text": [
            "a D c\n"
          ],
          "name": "stdout"
        }
      ]
    },
    {
      "cell_type": "code",
      "metadata": {
        "colab": {
          "base_uri": "https://localhost:8080/",
          "height": 52
        },
        "id": "CllDVRUoAZ_b",
        "outputId": "e527470f-5dad-4f72-bb15-56d691d3cc6f"
      },
      "source": [
        "a = input()\n",
        "b = []\n",
        "\n",
        "for i in a:\n",
        "  if i.isupper() == True: \n",
        "    b.append(i.lower())\n",
        "  else:\n",
        "    b.append(i.upper())\n",
        "''.join(b)"
      ],
      "execution_count": null,
      "outputs": [
        {
          "output_type": "stream",
          "text": [
            "a b E\n"
          ],
          "name": "stdout"
        },
        {
          "output_type": "execute_result",
          "data": {
            "application/vnd.google.colaboratory.intrinsic+json": {
              "type": "string"
            },
            "text/plain": [
              "'A B e'"
            ]
          },
          "metadata": {
            "tags": []
          },
          "execution_count": 89
        }
      ]
    },
    {
      "cell_type": "code",
      "metadata": {
        "id": "K7JDi0QiAz7I",
        "colab": {
          "base_uri": "https://localhost:8080/",
          "height": 265
        },
        "outputId": "b20f19f1-25b0-4b59-e179-1ee5288c311f"
      },
      "source": [
        "import matplotlib.pyplot as plt\n",
        "X = [0, 1, 2, 3, 4]\n",
        "Y = [10, 20, 50, 40, 60]\n",
        "plt.plot(X,Y)\n",
        "plt.savefig(\"test\")"
      ],
      "execution_count": null,
      "outputs": [
        {
          "output_type": "display_data",
          "data": {
            "image/png": "[encoded data removed]",
            "text/plain": [
              "<Figure size 432x288 with 1 Axes>"
            ]
          },
          "metadata": {
            "tags": [],
            "needs_background": "light"
          }
        }
      ]
    },
    {
      "cell_type": "code",
      "metadata": {
        "colab": {
          "base_uri": "https://localhost:8080/",
          "height": 298
        },
        "id": "6t_hRnmMF0SP",
        "outputId": "9efb98be-79f1-46e6-c651-9214f4c4b13b"
      },
      "source": [
        "import matplotlib.pyplot as plt\n",
        "X = [0, 1, 2, 3, 4]\n",
        "Y = [10, 20, 50, 40, 60]\n",
        "title = \"Revenue (1000 $)\"\n",
        "plt.bar(X,Y)\n",
        "plt.title(title)\n",
        "plt.show()\n",
        "plt.savefig(\"test_2.jpg\")"
      ],
      "execution_count": null,
      "outputs": [
        {
          "output_type": "display_data",
          "data": {
            "image/png": "[encoded data removed]",
            "text/plain": [
              "<Figure size 432x288 with 1 Axes>"
            ]
          },
          "metadata": {
            "tags": [],
            "needs_background": "light"
          }
        },
        {
          "output_type": "display_data",
          "data": {
            "text/plain": [
              "<Figure size 432x288 with 0 Axes>"
            ]
          },
          "metadata": {
            "tags": []
          }
        }
      ]
    },
    {
      "cell_type": "code",
      "metadata": {
        "colab": {
          "base_uri": "https://localhost:8080/",
          "height": 298
        },
        "id": "9TCe52GbHRpe",
        "outputId": "e9f713cf-396e-4948-c59f-e0ba18da33d7"
      },
      "source": [
        "import matplotlib.pyplot as plt\n",
        "import seaborn as sns\n",
        "penguins = sns.load_dataset(\"penguins\")\n",
        "X = penguins[\"flipper_length_mm\"]\n",
        "Y = penguins[\"body_mass_g\"]\n",
        "title = \"Flipper length(mm) vs Body mass(g)\"\n",
        "plt.scatter(X,Y)\n",
        "plt.title(title)\n",
        "plt.xlim(160,240)\n",
        "plt.ylim(2500,6500)"
      ],
      "execution_count": null,
      "outputs": [
        {
          "output_type": "execute_result",
          "data": {
            "text/plain": [
              "(2500.0, 6500.0)"
            ]
          },
          "metadata": {
            "tags": []
          },
          "execution_count": 8
        },
        {
          "output_type": "display_data",
          "data": {
            "image/png": "[encoded data removed]",
            "text/plain": [
              "<Figure size 432x288 with 1 Axes>"
            ]
          },
          "metadata": {
            "tags": [],
            "needs_background": "light"
          }
        }
      ]
    },
    {
      "cell_type": "code",
      "metadata": {
        "colab": {
          "base_uri": "https://localhost:8080/",
          "height": 282
        },
        "id": "qTmxmYLBOXP3",
        "outputId": "f425d28c-cecc-4322-dec9-5a0c584a1d07"
      },
      "source": [
        "import matplotlib.pyplot as plt\n",
        "\n",
        "X = [0, 1, 2, 3, 4]\n",
        "Y = [10, 20, 50, 40, 60]\n",
        "\n",
        "fig, (ax1,ax2,ax3) = plt.subplots(1,3)\n",
        "ax1.scatter(X,Y)\n",
        "ax2.plot(X,Y)\n",
        "ax3.bar(X,Y)"
      ],
      "execution_count": null,
      "outputs": [
        {
          "output_type": "execute_result",
          "data": {
            "text/plain": [
              "<BarContainer object of 5 artists>"
            ]
          },
          "metadata": {
            "tags": []
          },
          "execution_count": 13
        },
        {
          "output_type": "display_data",
          "data": {
            "image/png": "[encoded data removed]",
            "text/plain": [
              "<Figure size 432x288 with 3 Axes>"
            ]
          },
          "metadata": {
            "tags": [],
            "needs_background": "light"
          }
        }
      ]
    },
    {
      "cell_type": "code",
      "metadata": {
        "colab": {
          "base_uri": "https://localhost:8080/",
          "height": 282
        },
        "id": "D4w4yzI8PKa9",
        "outputId": "ca98446f-6e7b-4f53-96dc-f2b0050909e1"
      },
      "source": [
        "import matplotlib.pyplot as plt\n",
        "X = [0, 1, 2, 3, 4]\n",
        "Y = [10, 20, 50, 40, 60]\n",
        "plt.plot(X,Y)"
      ],
      "execution_count": null,
      "outputs": [
        {
          "output_type": "execute_result",
          "data": {
            "text/plain": [
              "[<matplotlib.lines.Line2D at 0x7ff119bbd4d0>]"
            ]
          },
          "metadata": {
            "tags": []
          },
          "execution_count": 1
        },
        {
          "output_type": "display_data",
          "data": {
            "image/png": "[encoded data removed]",
            "text/plain": [
              "<Figure size 432x288 with 1 Axes>"
            ]
          },
          "metadata": {
            "tags": [],
            "needs_background": "light"
          }
        }
      ]
    },
    {
      "cell_type": "code",
      "metadata": {
        "colab": {
          "base_uri": "https://localhost:8080/",
          "height": 298
        },
        "id": "Jtp6dtC_aomF",
        "outputId": "2d393610-e33c-4bcc-f53a-dbd29a3fd61f"
      },
      "source": [
        "import matplotlib.pyplot as plt\n",
        "X = [0, 1, 2, 3, 4]\n",
        "Y = [10, 20, 50, 40, 60]\n",
        "title = \"Revenue (1000 $)\"\n",
        "fig, ax = plt.subplots(1)\n",
        "ax.bar(X,Y)\n",
        "ax.set_title(title)"
      ],
      "execution_count": null,
      "outputs": [
        {
          "output_type": "execute_result",
          "data": {
            "text/plain": [
              "Text(0.5, 1.0, 'Revenue (1000 $)')"
            ]
          },
          "metadata": {
            "tags": []
          },
          "execution_count": 6
        },
        {
          "output_type": "display_data",
          "data": {
            "image/png": "[encoded data removed]",
            "text/plain": [
              "<Figure size 432x288 with 1 Axes>"
            ]
          },
          "metadata": {
            "tags": [],
            "needs_background": "light"
          }
        }
      ]
    },
    {
      "cell_type": "code",
      "metadata": {
        "colab": {
          "base_uri": "https://localhost:8080/",
          "height": 281
        },
        "id": "vod0YzjPbslg",
        "outputId": "81e5b694-1f7e-40e0-9690-ed0d13050343"
      },
      "source": [
        "import matplotlib.pyplot as plt\n",
        "import seaborn as sns\n",
        "penguins = sns.load_dataset(\"penguins\")\n",
        "X = penguins[\"flipper_length_mm\"]\n",
        "Y = penguins[\"body_mass_g\"]\n",
        "title = \"Flipper length(mm) vs Body mass(g)\"\n",
        "fig, ax = plt.subplots(1)\n",
        "ax.scatter(X,Y)\n",
        "ax.set_title(title)\n",
        "ax.set_xlim(160,240)\n",
        "ax.set_ylim(2500,6500)\n",
        "plt.show()\n"
      ],
      "execution_count": null,
      "outputs": [
        {
          "output_type": "display_data",
          "data": {
            "image/png": "[encoded data removed]",
            "text/plain": [
              "<Figure size 432x288 with 1 Axes>"
            ]
          },
          "metadata": {
            "tags": [],
            "needs_background": "light"
          }
        }
      ]
    },
    {
      "cell_type": "code",
      "metadata": {
        "colab": {
          "base_uri": "https://localhost:8080/",
          "height": 282
        },
        "id": "JKsHrgaEdQA_",
        "outputId": "a6fc08ab-1014-4620-dcf1-516f52bbc3ae"
      },
      "source": [
        "import matplotlib.pyplot as plt\n",
        "\n",
        "X = [0, 1, 2, 3, 4]\n",
        "Y = [10, 20, 50, 40, 60]\n",
        "fig, (ax1,ax2,ax3) = plt.subplots(1,3)\n",
        "ax1.scatter(X,Y)\n",
        "ax2.plot(X,Y)\n",
        "ax3.bar(X,Y)"
      ],
      "execution_count": null,
      "outputs": [
        {
          "output_type": "execute_result",
          "data": {
            "text/plain": [
              "<BarContainer object of 5 artists>"
            ]
          },
          "metadata": {
            "tags": []
          },
          "execution_count": 15
        },
        {
          "output_type": "display_data",
          "data": {
            "image/png": "[encoded data removed]",
            "text/plain": [
              "<Figure size 432x288 with 3 Axes>"
            ]
          },
          "metadata": {
            "tags": [],
            "needs_background": "light"
          }
        }
      ]
    },
    {
      "cell_type": "code",
      "metadata": {
        "colab": {
          "base_uri": "https://localhost:8080/",
          "height": 283
        },
        "id": "Pvp9tFDzfug9",
        "outputId": "7c4af235-3650-496f-9867-93d30aaa048c"
      },
      "source": [
        "X = [\"Tom\", \"Amy\", \"Jim\", \"Bill\", \"Pegi\"]\n",
        "Y = [8, 23, 52, 37, 64]\n",
        "fig, ax = plt.subplots()\n",
        "ax.bar(X,Y)\n",
        "ax.bar(X,Y, color=\"lightgray\", edgecolor = \"gray\")\n",
        "ax.set_xlabel(\"Salesperson\", fontsize=14, fontweight=\"bold\", color = \"gray\", labelpad = 4 )\n",
        "ax.set_ylabel(\"Revenue (100$)\", fontsize=14, fontweight = \"bold\", color = 'gray', labelpad = 4)\n",
        "plt.show()\n",
        "\n"
      ],
      "execution_count": null,
      "outputs": [
        {
          "output_type": "display_data",
          "data": {
            "image/png": "[encoded data removed]",
            "text/plain": [
              "<Figure size 432x288 with 1 Axes>"
            ]
          },
          "metadata": {
            "tags": [],
            "needs_background": "light"
          }
        }
      ]
    },
    {
      "cell_type": "code",
      "metadata": {
        "colab": {
          "base_uri": "https://localhost:8080/",
          "height": 232
        },
        "id": "IqKDSbYehFsz",
        "outputId": "15fc33c6-68ce-4cfb-b568-6435852ae071"
      },
      "source": [
        "X = [\"Tom\", \"Amy\", \"Jim\", \"Bill\", \"Pegi\"]\n",
        "Y = [8, 23, 52, 37, 64]\n",
        "fig, ax = plt.subplots()\n",
        "ax.bar(X,Y, color=\"lightgray\", edgecolor = \"gray\", zorder = 2)\n",
        "ax.set_xlabel(\"Salesperson\", fontsize=14, fontweight=\"bold\", color = \"gray\", labelpad = 4 )\n",
        "ax.set_ylabel(\"Revenue (100$)\", fontsize=14, fontweight = \"bold\", color = 'gray', labelpad = 4)\n",
        "ax.axhline(y=45, LineStyle='dashed')\n",
        "ax.axhline(y = 15, LineStyle='dashed', color = 'red',)\n",
        "ax.grid(axis = 'y' )\n",
        "ax.axhspan(0,15, facecolor = 'r', alpha = 0.1)\n",
        "ax.spines[\"left\"].set_visible(False)\n",
        "ax.spines[\"right\"].set_visible(False)\n",
        "ax.spines[\"top\"].set_visible(False)\n",
        "ax.spines[\"bottom\"].set_linewidth(2)\n",
        "plt.show()\n",
        "\n"
      ],
      "execution_count": null,
      "outputs": [
        {
          "output_type": "error",
          "ename": "NameError",
          "evalue": "ignored",
          "traceback": [
            "\u001b[0;31m---------------------------------------------------------------------------\u001b[0m",
            "\u001b[0;31mNameError\u001b[0m                                 Traceback (most recent call last)",
            "\u001b[0;32m<ipython-input-8-f18382189caf>\u001b[0m in \u001b[0;36m<module>\u001b[0;34m()\u001b[0m\n\u001b[1;32m      1\u001b[0m \u001b[0mX\u001b[0m \u001b[0;34m=\u001b[0m \u001b[0;34m[\u001b[0m\u001b[0;34m\"Tom\"\u001b[0m\u001b[0;34m,\u001b[0m \u001b[0;34m\"Amy\"\u001b[0m\u001b[0;34m,\u001b[0m \u001b[0;34m\"Jim\"\u001b[0m\u001b[0;34m,\u001b[0m \u001b[0;34m\"Bill\"\u001b[0m\u001b[0;34m,\u001b[0m \u001b[0;34m\"Pegi\"\u001b[0m\u001b[0;34m]\u001b[0m\u001b[0;34m\u001b[0m\u001b[0;34m\u001b[0m\u001b[0m\n\u001b[1;32m      2\u001b[0m \u001b[0mY\u001b[0m \u001b[0;34m=\u001b[0m \u001b[0;34m[\u001b[0m\u001b[0;36m8\u001b[0m\u001b[0;34m,\u001b[0m \u001b[0;36m23\u001b[0m\u001b[0;34m,\u001b[0m \u001b[0;36m52\u001b[0m\u001b[0;34m,\u001b[0m \u001b[0;36m37\u001b[0m\u001b[0;34m,\u001b[0m \u001b[0;36m64\u001b[0m\u001b[0;34m]\u001b[0m\u001b[0;34m\u001b[0m\u001b[0;34m\u001b[0m\u001b[0m\n\u001b[0;32m----> 3\u001b[0;31m \u001b[0mfig\u001b[0m\u001b[0;34m,\u001b[0m \u001b[0max\u001b[0m \u001b[0;34m=\u001b[0m \u001b[0mplt\u001b[0m\u001b[0;34m.\u001b[0m\u001b[0msubplots\u001b[0m\u001b[0;34m(\u001b[0m\u001b[0;34m)\u001b[0m\u001b[0;34m\u001b[0m\u001b[0;34m\u001b[0m\u001b[0m\n\u001b[0m\u001b[1;32m      4\u001b[0m \u001b[0max\u001b[0m\u001b[0;34m.\u001b[0m\u001b[0mbar\u001b[0m\u001b[0;34m(\u001b[0m\u001b[0mX\u001b[0m\u001b[0;34m,\u001b[0m\u001b[0mY\u001b[0m\u001b[0;34m,\u001b[0m \u001b[0mcolor\u001b[0m\u001b[0;34m=\u001b[0m\u001b[0;34m\"lightgray\"\u001b[0m\u001b[0;34m,\u001b[0m \u001b[0medgecolor\u001b[0m \u001b[0;34m=\u001b[0m \u001b[0;34m\"gray\"\u001b[0m\u001b[0;34m,\u001b[0m \u001b[0mzorder\u001b[0m \u001b[0;34m=\u001b[0m \u001b[0;36m2\u001b[0m\u001b[0;34m)\u001b[0m\u001b[0;34m\u001b[0m\u001b[0;34m\u001b[0m\u001b[0m\n\u001b[1;32m      5\u001b[0m \u001b[0max\u001b[0m\u001b[0;34m.\u001b[0m\u001b[0mset_xlabel\u001b[0m\u001b[0;34m(\u001b[0m\u001b[0;34m\"Salesperson\"\u001b[0m\u001b[0;34m,\u001b[0m \u001b[0mfontsize\u001b[0m\u001b[0;34m=\u001b[0m\u001b[0;36m14\u001b[0m\u001b[0;34m,\u001b[0m \u001b[0mfontweight\u001b[0m\u001b[0;34m=\u001b[0m\u001b[0;34m\"bold\"\u001b[0m\u001b[0;34m,\u001b[0m \u001b[0mcolor\u001b[0m \u001b[0;34m=\u001b[0m \u001b[0;34m\"gray\"\u001b[0m\u001b[0;34m,\u001b[0m \u001b[0mlabelpad\u001b[0m \u001b[0;34m=\u001b[0m \u001b[0;36m4\u001b[0m \u001b[0;34m)\u001b[0m\u001b[0;34m\u001b[0m\u001b[0;34m\u001b[0m\u001b[0m\n",
            "\u001b[0;31mNameError\u001b[0m: name 'plt' is not defined"
          ]
        }
      ]
    },
    {
      "cell_type": "code",
      "metadata": {
        "id": "HhhFJ-V2uzOY",
        "colab": {
          "base_uri": "https://localhost:8080/",
          "height": 232
        },
        "outputId": "f7cc69d2-ad41-4727-d257-1088f477051e"
      },
      "source": [
        "\n"
      ],
      "execution_count": null,
      "outputs": [
        {
          "output_type": "error",
          "ename": "NameError",
          "evalue": "ignored",
          "traceback": [
            "\u001b[0;31m---------------------------------------------------------------------------\u001b[0m",
            "\u001b[0;31mNameError\u001b[0m                                 Traceback (most recent call last)",
            "\u001b[0;32m<ipython-input-6-ab23050d8ae5>\u001b[0m in \u001b[0;36m<module>\u001b[0;34m()\u001b[0m\n\u001b[1;32m      1\u001b[0m \u001b[0mX\u001b[0m \u001b[0;34m=\u001b[0m \u001b[0;34m[\u001b[0m\u001b[0;34m\"Tom\"\u001b[0m\u001b[0;34m,\u001b[0m \u001b[0;34m\"Amy\"\u001b[0m\u001b[0;34m,\u001b[0m \u001b[0;34m\"Jim\"\u001b[0m\u001b[0;34m,\u001b[0m \u001b[0;34m\"Bill\"\u001b[0m\u001b[0;34m,\u001b[0m \u001b[0;34m\"Pegi\"\u001b[0m\u001b[0;34m]\u001b[0m\u001b[0;34m\u001b[0m\u001b[0;34m\u001b[0m\u001b[0m\n\u001b[1;32m      2\u001b[0m \u001b[0mY\u001b[0m \u001b[0;34m=\u001b[0m \u001b[0;34m[\u001b[0m\u001b[0;36m8\u001b[0m\u001b[0;34m,\u001b[0m \u001b[0;36m23\u001b[0m\u001b[0;34m,\u001b[0m \u001b[0;36m52\u001b[0m\u001b[0;34m,\u001b[0m \u001b[0;36m37\u001b[0m\u001b[0;34m,\u001b[0m \u001b[0;36m64\u001b[0m\u001b[0;34m]\u001b[0m\u001b[0;34m\u001b[0m\u001b[0;34m\u001b[0m\u001b[0m\n\u001b[0;32m----> 3\u001b[0;31m \u001b[0mfig\u001b[0m\u001b[0;34m,\u001b[0m \u001b[0max\u001b[0m \u001b[0;34m=\u001b[0m\u001b[0max\u001b[0m\u001b[0;34m.\u001b[0m\u001b[0msubplots\u001b[0m\u001b[0;34m(\u001b[0m\u001b[0;34m)\u001b[0m\u001b[0;34m\u001b[0m\u001b[0;34m\u001b[0m\u001b[0m\n\u001b[0m\u001b[1;32m      4\u001b[0m \u001b[0max\u001b[0m\u001b[0;34m.\u001b[0m\u001b[0mbar\u001b[0m\u001b[0;34m(\u001b[0m\u001b[0mX\u001b[0m\u001b[0;34m,\u001b[0m\u001b[0mY\u001b[0m\u001b[0;34m,\u001b[0m \u001b[0mcolor\u001b[0m\u001b[0;34m=\u001b[0m\u001b[0;34m\"lightgray\"\u001b[0m\u001b[0;34m,\u001b[0m \u001b[0medgecolor\u001b[0m \u001b[0;34m=\u001b[0m \u001b[0;34m\"gray\"\u001b[0m\u001b[0;34m,\u001b[0m \u001b[0mzorder\u001b[0m \u001b[0;34m=\u001b[0m \u001b[0;36m2\u001b[0m\u001b[0;34m)\u001b[0m\u001b[0;34m\u001b[0m\u001b[0;34m\u001b[0m\u001b[0m\n\u001b[1;32m      5\u001b[0m \u001b[0max\u001b[0m\u001b[0;34m.\u001b[0m\u001b[0mset_xlabel\u001b[0m\u001b[0;34m(\u001b[0m\u001b[0;34m\"Salesperson\"\u001b[0m\u001b[0;34m,\u001b[0m \u001b[0mfontsize\u001b[0m\u001b[0;34m=\u001b[0m\u001b[0;36m14\u001b[0m\u001b[0;34m,\u001b[0m \u001b[0mfontweight\u001b[0m\u001b[0;34m=\u001b[0m\u001b[0;34m\"bold\"\u001b[0m\u001b[0;34m,\u001b[0m \u001b[0mcolor\u001b[0m \u001b[0;34m=\u001b[0m \u001b[0;34m\"gray\"\u001b[0m\u001b[0;34m,\u001b[0m \u001b[0mlabelpad\u001b[0m \u001b[0;34m=\u001b[0m \u001b[0;36m4\u001b[0m\u001b[0;34m,\u001b[0m \u001b[0msize\u001b[0m \u001b[0;34m=\u001b[0m \u001b[0;34m\"large\"\u001b[0m \u001b[0;34m)\u001b[0m\u001b[0;34m\u001b[0m\u001b[0;34m\u001b[0m\u001b[0m\n",
            "\u001b[0;31mNameError\u001b[0m: name 'ax' is not defined"
          ]
        }
      ]
    },
    {
      "cell_type": "code",
      "metadata": {
        "colab": {
          "base_uri": "https://localhost:8080/",
          "height": 283
        },
        "id": "K3iepCzEeLyQ",
        "outputId": "f7864f2e-00e4-4f8d-a8ae-569eb21f4084"
      },
      "source": [
        "import matplotlib.pyplot as plt\n",
        "X = [\"Tom\", \"Amy\", \"Jim\", \"Bill\", \"Pegi\"]\n",
        "Y = [8, 23, 52, 37, 64]\n",
        "fig, ax = plt.subplots()\n",
        "ax.bar(X,Y, color=\"lightgray\", edgecolor = \"gray\", zorder = 2)\n",
        "ax.set_xlabel(\"Salesperson\", fontsize=14, fontweight=\"bold\", color = \"gray\", labelpad = 4 )\n",
        "ax.set_ylabel(\"Revenue (100$)\", fontsize=14, fontweight = \"bold\", color = 'gray', labelpad = 4)\n",
        "ax.axhline(y=45, LineStyle='dashed')\n",
        "ax.axhline(y = 15, LineStyle='dashed', color = 'red',)\n",
        "ax.grid(axis = 'y' )\n",
        "ax.axhspan(0,15, facecolor = 'r', alpha = 0.1)\n",
        "ax.spines[\"left\"].set_visible(False)\n",
        "ax.spines[\"right\"].set_visible(False)\n",
        "ax.spines[\"top\"].set_visible(False)\n",
        "ax.spines[\"bottom\"].set_linewidth(2)\n",
        "ax.set_yticks(range(0,65,15))\n",
        "ax.patches[X.index('Pegi')].set_facecolor('yellow')\n",
        "ax.patches[X.index('Pegi')].set_edgecolor(\"darkorange\")\n",
        "ax.patches[X.index('Pegi')].set_linewidth(2)\n",
        "plt.show()"
      ],
      "execution_count": null,
      "outputs": [
        {
          "output_type": "display_data",
          "data": {
            "image/png": "[encoded data removed]",
            "text/plain": [
              "<Figure size 432x288 with 1 Axes>"
            ]
          },
          "metadata": {
            "tags": [],
            "needs_background": "light"
          }
        }
      ]
    },
    {
      "cell_type": "code",
      "metadata": {
        "id": "uJ-5-7M2gKU0"
      },
      "source": [
        "import matplotlib.pyplot as plt\n",
        "import seaborn as sns\n",
        "tips = sns.load_dataset(\"tips\")\n",
        "xlabel_0 = \"Total Bill ($)\"\n",
        "ylabel_0 = \"Count\"\n",
        "\n",
        "xlabel_1 = \"Tip ($)\"\n",
        "ylabel_1 = \"Density\"\n",
        "\n",
        "xlabel_2 = \"Total Bill ($)\"\n",
        "ylabel_2 = \"Tip ($)\"\n",
        "\n",
        "label_fontdict = {\"fontsize\":14, \"fontweight\":\"bold\", \"color\":\"gray\"}\n",
        "labelpad = 12\n",
        "tick_labelsize = \"large\"\n",
        "cmap = \"Greens\""
      ],
      "execution_count": null,
      "outputs": []
    },
    {
      "cell_type": "code",
      "metadata": {
        "colab": {
          "base_uri": "https://localhost:8080/",
          "height": 35
        },
        "id": "kPdU1Txs5LmT",
        "outputId": "bcc4b3b3-f168-4478-e178-bddb3162a35d"
      },
      "source": [
        "\"\""
      ],
      "execution_count": null,
      "outputs": [
        {
          "output_type": "execute_result",
          "data": {
            "application/vnd.google.colaboratory.intrinsic+json": {
              "type": "string"
            },
            "text/plain": [
              "''"
            ]
          },
          "metadata": {
            "tags": []
          },
          "execution_count": 22
        }
      ]
    },
    {
      "cell_type": "code",
      "metadata": {
        "colab": {
          "base_uri": "https://localhost:8080/",
          "height": 504
        },
        "id": "nujs5Flo5cR_",
        "outputId": "65bbf014-fae4-4bd2-ae70-acdafe652eff"
      },
      "source": [
        "import matplotlib.pyplot as plt\n",
        "import seaborn as sns\n",
        "fig,ax = plt.subplots(figsize=(8,8),ncols=2, nrows=2)\n",
        "fig.subplots_adjust(wspace=0.5,hspace=0.5)\n",
        "tips = sns.load_dataset(\"tips\")\n",
        "xlabel_0 = \"Total Bill ($)\"\n",
        "ylabel_0 = \"Count\"\n",
        "\n",
        "xlabel_1 = \"Tip ($)\"\n",
        "ylabel_1 = \"Density\"\n",
        "\n",
        "xlabel_2 = \"Total Bill ($)\"\n",
        "ylabel_2 = \"Tip ($)\"\n",
        "\n",
        "label_fontdict = {\"fontsize\":14, \"fontweight\":\"bold\", \"color\":\"gray\"}\n",
        "labelpad = 12\n",
        "tick_labelsize = \"large\"\n",
        "cmap = \"Greens\"\n",
        "plt\n"
      ],
      "execution_count": null,
      "outputs": [
        {
          "output_type": "execute_result",
          "data": {
            "text/plain": [
              "[]"
            ]
          },
          "metadata": {
            "tags": []
          },
          "execution_count": 28
        },
        {
          "output_type": "display_data",
          "data": {
            "image/png": "[encoded data removed]",
            "text/plain": [
              "<Figure size 576x576 with 4 Axes>"
            ]
          },
          "metadata": {
            "tags": [],
            "needs_background": "light"
          }
        }
      ]
    },
    {
      "cell_type": "code",
      "metadata": {
        "colab": {
          "base_uri": "https://localhost:8080/",
          "height": 499
        },
        "id": "ptBhbvB55l3X",
        "outputId": "af9f5a89-e43e-4294-f9fb-d7d855eec91d"
      },
      "source": [
        "import matplotlib.pyplot as plt\n",
        "import seaborn as sns\n",
        "\n",
        "tips = sns.load_dataset(\"tips\")\n",
        "\n",
        "xlabel_0 = \"Total Bill ($)\"\n",
        "ylabel_0 = \"Count\"\n",
        "xlabel_1 = \"Tip ($)\"\n",
        "ylabel_1 = \"Density\"\n",
        "xlabel_2 = \"Total Bill ($)\"\n",
        "ylabel_2 = \"Tip ($)\"\n",
        "\n",
        "label_fontdict = {\"fontsize\":14, \"fontweight\":\"bold\", \"color\":\"gray\"}\n",
        "labelpad = 14\n",
        "tick_labelsize = \"large\"\n",
        "elephant = \"flare\"\n",
        "\n",
        "# plot\n",
        "fig,ax = plt.subplots(figsize=(8,8),ncols=2, nrows=2)\n",
        "fig.subplots_adjust(wspace=0.5,hspace=0.5)\n",
        "\n",
        "sns.histplot(ax=ax[0,0], data = tips['total_bill'])\n",
        "ax[0,0].set_xlabel(xlabel_0)\n",
        "ax[0,0].set_ylabel(ylabel_0)\n",
        "\n",
        "sns.kdeplot(ax=ax[0,1],data=tips['total_bill'])\n",
        "ax[0,1].set_xlabel(xlabel_1)\n",
        "ax[0,1].set_ylabel(ylabel_1)\n",
        "\n",
        "sns.histplot(ax=ax[1,0], x=tips['total_bill'], y=tips['tip'], cbar=True, cmap=elephant)\n",
        "ax[1,0].set_xlabel(xlabel_2)\n",
        "ax[1,0].set_ylabel(ylabel_2)\n",
        "\n",
        "sns.kdeplot(ax=ax[1,1],x=tips['total_bill'],y=tips['tip'],cmap=elephant)\n",
        "ax[1,1].set_xlabel(xlabel_2)\n",
        "ax[1,1].set_ylabel(ylabel_2)\n",
        "\n",
        "plt.savefig('Seaborn_1')"
      ],
      "execution_count": null,
      "outputs": [
        {
          "output_type": "display_data",
          "data": {
            "image/png": "[encoded data removed]",
            "text/plain": [
              "<Figure size 576x576 with 5 Axes>"
            ]
          },
          "metadata": {
            "tags": [],
            "needs_background": "light"
          }
        }
      ]
    },
    {
      "cell_type": "code",
      "metadata": {
        "colab": {
          "base_uri": "https://localhost:8080/",
          "height": 943
        },
        "id": "KFpx5rNU6gjy",
        "outputId": "f2055db2-3b4a-4e3e-ca8f-bb353029b219"
      },
      "source": [
        "import matplotlib.pyplot as plt\n",
        "import seaborn as sns\n",
        "\n",
        "tips = sns.load_dataset(\"tips\")\n",
        "xlabel = \"Day\"\n",
        "ylabel = \"Total Bill ($)\"\n",
        "label_fontdict = {\"fontsize\":14, \"fontweight\":\"bold\", \"color\":\"gray\"}\n",
        "labelpad = 12\n",
        "tick_labelsize = \"large\"\n",
        "fig,ax = plt.subplots(figsize=(12,15),ncols=2, nrows=3,sharey=\"none\",sharex=\"col\")\n",
        "\n",
        "sns.barplot(ax=ax[0,0],x=\"day\",y=\"total_bill\",data=tips)\n",
        "ax[0,0].set_ylabel(ylabel,label_fontdict, labelpad)\n",
        "ax[0,0].set_xlabel(\"\")\n",
        "\n",
        "sns.boxplot(ax=ax[0,1],x=\"day\",y=\"total_bill\",data=tips)\n",
        "ax[0,1].set_ylabel(\"\")\n",
        "ax[0,1].set_xlabel(\"\")\n",
        "\n",
        "sns.swarmplot(ax=ax[1,0],x=\"day\",y=\"total_bill\",data=tips)\n",
        "ax[1,0].set_xlabel(\"\")\n",
        "ax[1,0].set_ylabel(ylabel,label_fontdict, labelpad)\n",
        "\n",
        "sns.swarmplot(ax=ax[1,1],x=\"day\",y=\"total_bill\",hue=\"sex\",dodge=True,data=tips)\n",
        "ax[1,1].set_xlabel(\"\")\n",
        "ax[1,1].set_ylabel(\"\")\n",
        "\n",
        "sns.violinplot(ax=ax[2,0],x=\"day\",y=\"total_bill\",palette=\"muted\",data=tips)\n",
        "ax[2,0].set_ylabel(ylabel,label_fontdict, labelpad)\n",
        "ax[2,0].set_xlabel(xlabel,label_fontdict, labelpad)\n",
        "\n",
        "sns.violinplot(ax=ax[2,1],x=\"day\",y=\"total_bill\",hue=\"sex\",palette=\"muted\",split=True,data=tips)\n",
        "ax[2,1].set_xlabel(xlabel,label_fontdict, labelpad)\n",
        "ax[2,1].set_ylabel(\"\")\n",
        "\n",
        "plt.savefig(\"seaborn_ex2.png\")"
      ],
      "execution_count": null,
      "outputs": [
        {
          "output_type": "stream",
          "text": [
            "/usr/local/lib/python3.7/dist-packages/seaborn/categorical.py:1296: UserWarning: 10.2% of the points cannot be placed; you may want to decrease the size of the markers or use stripplot.\n",
            "  warnings.warn(msg, UserWarning)\n"
          ],
          "name": "stderr"
        },
        {
          "output_type": "display_data",
          "data": {
            "image/png": "[encoded data removed]",
            "text/plain": [
              "<Figure size 864x1080 with 6 Axes>"
            ]
          },
          "metadata": {
            "tags": [],
            "needs_background": "light"
          }
        }
      ]
    },
    {
      "cell_type": "code",
      "metadata": {
        "colab": {
          "base_uri": "https://localhost:8080/",
          "height": 296
        },
        "id": "oxfUitxHC6pX",
        "outputId": "1971abab-27ed-4360-cbf8-5674bf650566"
      },
      "source": [
        "import matplotlib.pyplot as plt\n",
        "\n",
        "import seaborn as sns\n",
        "\n",
        "tips = sns.load_dataset(\"tips\")\n",
        "\n",
        "xlabel = \"Total Bill ($)\"\n",
        "ylabel = \"Tip ($)\"\n",
        "label_fontdict = {\"fontsize\":14, \"fontweight\":\"bold\", \"color\":\"gray\"}\n",
        "labelpad = 12\n",
        "\n",
        "tick_labelsize = \"large\"\n",
        "fig, ax = plt.subplots(ncols=2, figsize=(10,4))\n",
        "\n",
        "sns.lineplot(ax=ax[0],x = \"total_bill\", y = \"tip\", data = tips)\n",
        "ax[0].set_ylabel(\"TOTAL BILL\")\n",
        "ax[0].set_xlabel(\"TIPS\")\n",
        "\n",
        "sns.scatterplot(ax=ax[1], x = \"total_bill\", y = \"tip\", data = tips)\n",
        "ax[1].set_ylabel(\"TOTAL BILL\")\n",
        "ax[1].set_xlabel(\"TIPS\")"
      ],
      "execution_count": null,
      "outputs": [
        {
          "output_type": "execute_result",
          "data": {
            "text/plain": [
              "Text(0.5, 0, 'TIPS')"
            ]
          },
          "metadata": {
            "tags": []
          },
          "execution_count": 69
        },
        {
          "output_type": "display_data",
          "data": {
            "image/png": "[encoded data removed]",
            "text/plain": [
              "<Figure size 720x288 with 2 Axes>"
            ]
          },
          "metadata": {
            "tags": [],
            "needs_background": "light"
          }
        }
      ]
    },
    {
      "cell_type": "code",
      "metadata": {
        "colab": {
          "base_uri": "https://localhost:8080/",
          "height": 419
        },
        "id": "Hmdo6rVLI2m8",
        "outputId": "aebf1409-9daf-4ca1-ead3-da2c8819d81a"
      },
      "source": [
        "tips"
      ],
      "execution_count": null,
      "outputs": [
        {
          "output_type": "execute_result",
          "data": {
            "text/html": [
              "<div>\n",
              "<style scoped>\n",
              "    .dataframe tbody tr th:only-of-type {\n",
              "        vertical-align: middle;\n",
              "    }\n",
              "\n",
              "    .dataframe tbody tr th {\n",
              "        vertical-align: top;\n",
              "    }\n",
              "\n",
              "    .dataframe thead th {\n",
              "        text-align: right;\n",
              "    }\n",
              "</style>\n",
              "<table border=\"1\" class=\"dataframe\">\n",
              "  <thead>\n",
              "    <tr style=\"text-align: right;\">\n",
              "      <th></th>\n",
              "      <th>total_bill</th>\n",
              "      <th>tip</th>\n",
              "      <th>sex</th>\n",
              "      <th>smoker</th>\n",
              "      <th>day</th>\n",
              "      <th>time</th>\n",
              "      <th>size</th>\n",
              "    </tr>\n",
              "  </thead>\n",
              "  <tbody>\n",
              "    <tr>\n",
              "      <th>0</th>\n",
              "      <td>16.99</td>\n",
              "      <td>1.01</td>\n",
              "      <td>Female</td>\n",
              "      <td>No</td>\n",
              "      <td>Sun</td>\n",
              "      <td>Dinner</td>\n",
              "      <td>2</td>\n",
              "    </tr>\n",
              "    <tr>\n",
              "      <th>1</th>\n",
              "      <td>10.34</td>\n",
              "      <td>1.66</td>\n",
              "      <td>Male</td>\n",
              "      <td>No</td>\n",
              "      <td>Sun</td>\n",
              "      <td>Dinner</td>\n",
              "      <td>3</td>\n",
              "    </tr>\n",
              "    <tr>\n",
              "      <th>2</th>\n",
              "      <td>21.01</td>\n",
              "      <td>3.50</td>\n",
              "      <td>Male</td>\n",
              "      <td>No</td>\n",
              "      <td>Sun</td>\n",
              "      <td>Dinner</td>\n",
              "      <td>3</td>\n",
              "    </tr>\n",
              "    <tr>\n",
              "      <th>3</th>\n",
              "      <td>23.68</td>\n",
              "      <td>3.31</td>\n",
              "      <td>Male</td>\n",
              "      <td>No</td>\n",
              "      <td>Sun</td>\n",
              "      <td>Dinner</td>\n",
              "      <td>2</td>\n",
              "    </tr>\n",
              "    <tr>\n",
              "      <th>4</th>\n",
              "      <td>24.59</td>\n",
              "      <td>3.61</td>\n",
              "      <td>Female</td>\n",
              "      <td>No</td>\n",
              "      <td>Sun</td>\n",
              "      <td>Dinner</td>\n",
              "      <td>4</td>\n",
              "    </tr>\n",
              "    <tr>\n",
              "      <th>...</th>\n",
              "      <td>...</td>\n",
              "      <td>...</td>\n",
              "      <td>...</td>\n",
              "      <td>...</td>\n",
              "      <td>...</td>\n",
              "      <td>...</td>\n",
              "      <td>...</td>\n",
              "    </tr>\n",
              "    <tr>\n",
              "      <th>239</th>\n",
              "      <td>29.03</td>\n",
              "      <td>5.92</td>\n",
              "      <td>Male</td>\n",
              "      <td>No</td>\n",
              "      <td>Sat</td>\n",
              "      <td>Dinner</td>\n",
              "      <td>3</td>\n",
              "    </tr>\n",
              "    <tr>\n",
              "      <th>240</th>\n",
              "      <td>27.18</td>\n",
              "      <td>2.00</td>\n",
              "      <td>Female</td>\n",
              "      <td>Yes</td>\n",
              "      <td>Sat</td>\n",
              "      <td>Dinner</td>\n",
              "      <td>2</td>\n",
              "    </tr>\n",
              "    <tr>\n",
              "      <th>241</th>\n",
              "      <td>22.67</td>\n",
              "      <td>2.00</td>\n",
              "      <td>Male</td>\n",
              "      <td>Yes</td>\n",
              "      <td>Sat</td>\n",
              "      <td>Dinner</td>\n",
              "      <td>2</td>\n",
              "    </tr>\n",
              "    <tr>\n",
              "      <th>242</th>\n",
              "      <td>17.82</td>\n",
              "      <td>1.75</td>\n",
              "      <td>Male</td>\n",
              "      <td>No</td>\n",
              "      <td>Sat</td>\n",
              "      <td>Dinner</td>\n",
              "      <td>2</td>\n",
              "    </tr>\n",
              "    <tr>\n",
              "      <th>243</th>\n",
              "      <td>18.78</td>\n",
              "      <td>3.00</td>\n",
              "      <td>Female</td>\n",
              "      <td>No</td>\n",
              "      <td>Thur</td>\n",
              "      <td>Dinner</td>\n",
              "      <td>2</td>\n",
              "    </tr>\n",
              "  </tbody>\n",
              "</table>\n",
              "<p>244 rows × 7 columns</p>\n",
              "</div>"
            ],
            "text/plain": [
              "     total_bill   tip     sex smoker   day    time  size\n",
              "0         16.99  1.01  Female     No   Sun  Dinner     2\n",
              "1         10.34  1.66    Male     No   Sun  Dinner     3\n",
              "2         21.01  3.50    Male     No   Sun  Dinner     3\n",
              "3         23.68  3.31    Male     No   Sun  Dinner     2\n",
              "4         24.59  3.61  Female     No   Sun  Dinner     4\n",
              "..          ...   ...     ...    ...   ...     ...   ...\n",
              "239       29.03  5.92    Male     No   Sat  Dinner     3\n",
              "240       27.18  2.00  Female    Yes   Sat  Dinner     2\n",
              "241       22.67  2.00    Male    Yes   Sat  Dinner     2\n",
              "242       17.82  1.75    Male     No   Sat  Dinner     2\n",
              "243       18.78  3.00  Female     No  Thur  Dinner     2\n",
              "\n",
              "[244 rows x 7 columns]"
            ]
          },
          "metadata": {
            "tags": []
          },
          "execution_count": 61
        }
      ]
    },
    {
      "cell_type": "code",
      "metadata": {
        "id": "3mfTQzEhOU6o"
      },
      "source": [
        ""
      ],
      "execution_count": null,
      "outputs": []
    }
  ]
}